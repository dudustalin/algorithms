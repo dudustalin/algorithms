{
 "cells": [
  {
   "cell_type": "markdown",
   "id": "b3444b79",
   "metadata": {},
   "source": [
    "# Algorítimos - Prática"
   ]
  },
  {
   "cell_type": "markdown",
   "id": "7af13039",
   "metadata": {},
   "source": [
    "# Algorítimos fáceis"
   ]
  },
  {
   "cell_type": "code",
   "execution_count": 2,
   "id": "fc0e06cf",
   "metadata": {},
   "outputs": [],
   "source": [
    "import random as rnd"
   ]
  },
  {
   "cell_type": "markdown",
   "id": "e2584da7",
   "metadata": {},
   "source": [
    "### DADA UMA MATRIZ DE INTEIROS NÃO CLASSIFICADOS, QUAL PAR RETORNA UMA DETERMINADA SOMA"
   ]
  },
  {
   "cell_type": "code",
   "execution_count": 22,
   "id": "16295bd9",
   "metadata": {
    "scrolled": false
   },
   "outputs": [
    {
     "name": "stdout",
     "output_type": "stream",
     "text": [
      "Possível Resultado (2, 8)\n",
      "Possível Resultado (3, 7)\n",
      "Possível Resultado (4, 6)\n",
      "Possível Resultado (6, 4)\n",
      "Possível Resultado (7, 3)\n",
      "Possível Resultado (8, 2)\n",
      "[5, 18, 20, 10, 8, 12, 3, 11, 1, 0, 7, 16, 19, 13, 15, 17, 9]\n",
      "Possível Resultado (5, 10)\n",
      "Possível Resultado (10, 5)\n",
      "Possível Resultado (8, 7)\n",
      "Possível Resultado (12, 3)\n",
      "Possível Resultado (3, 12)\n",
      "Possível Resultado (0, 15)\n",
      "Possível Resultado (7, 8)\n",
      "Possível Resultado (15, 0)\n"
     ]
    }
   ],
   "source": [
    "\n",
    "\n",
    "# Aplicando a força bruta\n",
    "#Função\n",
    "def encontra_soma(inteiro, lista):\n",
    "    res = [(i, j) for i in lista for j in lista if i + j == inteiro and i != j]\n",
    "    for i in res:\n",
    "        print (f\"Possível Resultado {i}\")\n",
    "\n",
    "#Testes:\n",
    "m = [1, 2, 3, 4, 5, 6, 7, 8]\n",
    "\n",
    "encontra_soma (10, m)\n",
    "\n",
    "n = [rnd.randint(0,20) for i in range(40)]\n",
    "\n",
    "n = list(dict.fromkeys(n))\n",
    "\n",
    "print(n)\n",
    "encontra_soma(15, n)\n",
    "\n",
    "\n",
    "        \n",
    "\n",
    "\n"
   ]
  },
  {
   "cell_type": "code",
   "execution_count": 68,
   "id": "631fbb8f",
   "metadata": {},
   "outputs": [
    {
     "name": "stdout",
     "output_type": "stream",
     "text": [
      "[1, 2, 3, 4, 5, 6, 7, 8] \n",
      " [0, 1, 3, 5, 7, 8, 9, 10, 11, 12, 13, 15, 16, 17, 18, 19, 20]\n",
      "Possível par 2, 8\n",
      "Possível par 3, 7\n",
      "Possível par 4, 6\n",
      "Possível par 0, 20\n",
      "Possível par 1, 19\n",
      "Possível par 3, 17\n",
      "Possível par 5, 15\n",
      "Possível par 7, 13\n",
      "Possível par 8, 12\n",
      "Possível par 9, 11\n"
     ]
    }
   ],
   "source": [
    "# Usando o método alto - baixo:\n",
    "# Funciona apenas em listas ordenadas\n",
    "# Utilizei uma função recursiva para evitar loops com while e tentar uma alternativa ao for\n",
    "\n",
    "#DECORADOR PARA TESTAR FUNÇÕES COM ARGUMENTOS\n",
    "#cada argumento posicional é um elemento em uma tupla referenciada pelo nome 'args'\n",
    "def funcounter(function):\n",
    "\n",
    "    def wrapper(*args):\n",
    "        function(*args)\n",
    "    return wrapper\n",
    "\n",
    "#@funcounter\n",
    "def proc_par_ab(inteiro, lista, idx):\n",
    "    \n",
    "    # Ordena a lista\n",
    "    lista.sort()\n",
    "    \n",
    "    #Variável para índice mais baixo a ser analisado\n",
    "    (lo, hi) = idx\n",
    "    \n",
    "    \n",
    "    #termina a recursão para os casos de listas com número ímpar de elementos\n",
    "    if lo == hi:\n",
    "        return None\n",
    "    \n",
    "    #controle que reconhece se os dois índices comparados correspondem ao número-alvo\n",
    "    if lista[lo] + lista[hi] == inteiro:\n",
    "        print(f\"Possível par {lista[lo]}, {lista[hi]}\")\n",
    "        \n",
    "        #reduz o índice mais alto\n",
    "        hi -= 1\n",
    "        \n",
    "        #reseta o menor índice\n",
    "        lo = 0\n",
    "        \n",
    "        #passa a nova lista e os últimos índices como argumentos para a mesma função\n",
    "        proc_par_ab(inteiro, lista, (lo, hi))\n",
    "    \n",
    "    #controle que pula para a próxima recursão caso a soma dos dois elementos seja maior que o número-alvo\n",
    "    elif lista[lo] + lista[hi] > inteiro:\n",
    "        #reduz o índice mais alto\n",
    "        hi -= 1\n",
    "        \n",
    "        #reseta o menor índice\n",
    "        lo = 0\n",
    "        \n",
    "        #passa a nova lista e os últimos índices como argumentos para a mesma função\n",
    "        proc_par_ab(inteiro, lista, (lo, hi))\n",
    "    \n",
    "    #controle para caso os dois índices comparados não correspondam ao número-alvo\n",
    "    else:\n",
    "        #incrementa em 1 o menor índice\n",
    "        lo += 1\n",
    "        \n",
    "        #termina a função caso o incremento resulte num índice superior ao último índice\n",
    "        if lo >= hi:\n",
    "            return None\n",
    "        \n",
    "        #passa a mesma lista e o índice incrementado como argumento da função\n",
    "        proc_par_ab(inteiro, lista, (lo, hi))\n",
    "        \n",
    "print(m, \"\\n\", n)    \n",
    "proc_par_ab(10, m, (0, len(m)-1))\n",
    "\n",
    "proc_par_ab(20, n, (0, len(n)-1))"
   ]
  },
  {
   "cell_type": "code",
   "execution_count": 17,
   "id": "7e15bab5",
   "metadata": {
    "scrolled": true
   },
   "outputs": [
    {
     "name": "stdout",
     "output_type": "stream",
     "text": [
      "Possível par 4, 6.\n",
      "Possível par 3, 7.\n",
      "Possível par 2, 8.\n",
      "Par não encontrado\n",
      "Possível par 1, 14.\n",
      "Possível par 15, 0.\n",
      "Possível par 6, 9.\n",
      "Possível par 5, 10.\n",
      "Par não encontrado\n"
     ]
    }
   ],
   "source": [
    "# Usando um dicionário\n",
    "# Evita Repetições\n",
    "        #se o número alvo subtraído do inteiro estiver no dicionário, temos um possível par:\n",
    "        # por exemplo: na lista m, sabemos que 2 é o primeiro número, índice 1.\n",
    "        #                temos assim que: 10 -2 = 8\n",
    "        #                o número 1 será adicionado como chave do índice 0 no dicionário\n",
    "        #                quando o algorítimo checa o número 9, temos que:\n",
    "        #                10 - 8 = 2, índice que corresponde à segunda chave de nosso dicionário\n",
    "        \n",
    "        \n",
    "        \n",
    "\n",
    "def encontra_par(inteiro, lista):\n",
    "    #criar um dicionário vazio\n",
    "    d = {}\n",
    "    \n",
    "    #usar a função enumerate para obter pares ordenados da seguinte forma (índice, elemento)\n",
    "    for i, e in enumerate(lista):\n",
    "\n",
    "        if inteiro - e in d:\n",
    "            print(f\"Possível par {lista[d.get(inteiro - e)]}, {lista[i]}.\")\n",
    "        d[e] = i\n",
    "    print(\"Par não encontrado\")\n",
    "\n",
    "encontra_par(10, m)\n",
    "encontra_par(15, n)"
   ]
  },
  {
   "cell_type": "markdown",
   "id": "4acc4205",
   "metadata": {},
   "source": [
    "### Verificar se uma sublista tem soma 0"
   ]
  },
  {
   "cell_type": "code",
   "execution_count": 185,
   "id": "9eb51f88",
   "metadata": {},
   "outputs": [
    {
     "data": {
      "text/plain": [
       "[-8, -2, 8, -2, -5, 8, -7, 8, 3, -8, 4, 7, 4, 8, 6, 3, -9, -5, -6, -4]"
      ]
     },
     "execution_count": 185,
     "metadata": {},
     "output_type": "execute_result"
    }
   ],
   "source": [
    "m2 = [rnd.randint(-9, 9) for i in range(20)]\n",
    "m2"
   ]
  },
  {
   "cell_type": "code",
   "execution_count": 188,
   "id": "2101a749",
   "metadata": {
    "scrolled": true
   },
   "outputs": [
    {
     "name": "stdout",
     "output_type": "stream",
     "text": [
      "Submatriz: []\n",
      "Submatriz: [8, 3, -8, 4, 7]\n",
      "Submatriz: [8, 3, -8, 4, 7, 4, 8, 6, 3, -9, -5]\n"
     ]
    },
    {
     "data": {
      "text/plain": [
       "True"
      ]
     },
     "execution_count": 188,
     "metadata": {},
     "output_type": "execute_result"
    }
   ],
   "source": [
    "# A idéia é analisar se existe uma sublista de elementos contíguos cuja soma seja 0\n",
    "\n",
    "# A estratégia básica do algorítimo é usar o seguinte teorema:\n",
    "# sup. para qualquer matriz de inteiros, onde exista ao menos um inteiro positivo \n",
    "#      e um negativo, com n elementos n>=3 ou mais elementos, o conjunto da soma dos\n",
    "#      elementos e0, e0+e1, e0+..+en conterá ao menos um elemento igual a outro elemento\n",
    "#      \n",
    "\n",
    "def get_zero_sum(lista):\n",
    "    \n",
    "    #lista vazia para comparação\n",
    "    ls = []\n",
    "    check = False\n",
    "    \n",
    "    \n",
    "    #loop que percorrerá a lista-alvo\n",
    "    for i in range(1, len(lista)):\n",
    "        #procede a soma de acordo com o teorema\n",
    "        sigma = sum(lista[:i])\n",
    "        \n",
    "        #controle que verifica se o valor está contido na lista de comparação\n",
    "        if sigma in ls:\n",
    "            check = True\n",
    "            \n",
    "                    #verifica i e a sublista\n",
    "                    #print(sigma, ls, i)\n",
    "            \n",
    "            #retorna a última posição do número somado que foi repetido\n",
    "            pos_sigma = ls.index(sigma)\n",
    "            \n",
    "            #retorna a posição da soma correspondente na lista original\n",
    "            pos_init_subarray = lista[pos_sigma]-1\n",
    "            \n",
    "                    #print(pos_sigma,i)\n",
    "            \n",
    "            #imprime a submatriz com soma 0\n",
    "            print(f\"Submatriz: {lista[pos_init_subarray:i+1]}\")\n",
    "            #return True\n",
    "        \n",
    "        #adiciona o valor somado à matriz para comparações futuras\n",
    "        ls += [sigma]\n",
    "    return check\n",
    "\n",
    "get_zero_sum(m2)\n",
    "    "
   ]
  },
  {
   "cell_type": "markdown",
   "id": "5128c7aa",
   "metadata": {},
   "source": [
    "### Encontrar a submatriz com a maior soma"
   ]
  },
  {
   "cell_type": "code",
   "execution_count": 253,
   "id": "fad08473",
   "metadata": {},
   "outputs": [
    {
     "data": {
      "text/plain": [
       "(37, [8, -2, -5, 8, -7, 8, 3, -8, 4, 7, 4, 8, 6, 3])"
      ]
     },
     "execution_count": 253,
     "metadata": {},
     "output_type": "execute_result"
    }
   ],
   "source": [
    "#Neste caso o objetivo é encontrar aquela submatriz cuja soma é maior do que soma das demais submatrizes\n",
    "\n",
    "def encontra_maior_soma(lista):\n",
    "    \n",
    "    min_index = 0\n",
    "    max_index = 0\n",
    "    \n",
    "    best_sum = 0\n",
    "    cur_sum = 0\n",
    "    \n",
    "    #gerador que enumera a lista em questão\n",
    "    e = enumerate(lista)\n",
    "   \n",
    "    #laço sobre o gerador\n",
    "    for i, j in e:\n",
    "        \n",
    "        #Aqui o controle de fluxo estabelece a seguinte condição:\n",
    "        # se a soma progressiva dos números é menor ou igual a zero,\n",
    "        # conta-se a origem da submatriz a partir desse ponto\n",
    "        # a soma total atual passa a ser igual ao número em questão\n",
    "        #com este controle, evita-se que números negativos sejam somados,\n",
    "        #sucessivamente\n",
    "        if cur_sum <= 0:\n",
    "            curr_start = i\n",
    "            cur_sum = j\n",
    "        \n",
    "        #Nesta etapa do controle a soma atual passa a ser progressiva, uma vez que o resultado da soma anterior é positivo\n",
    "        else:\n",
    "            cur_sum += j\n",
    "        \n",
    "        #este controle estabelece a maior soma e os ídices menor e maior\n",
    "        #sendo a soma atual maior ou fo que melhor soma obtida até o momento,\n",
    "        #mantém-se o maior número. A sequencia será iniciada a partir do último ponto\n",
    "        #em que se observou uma soma atual menor ou igual a zero\n",
    "        #O maior índice será avaliado quando chegarmos ao último número\n",
    "        #que causou o aumento da soma atual. Quando ocorrer qualquer diminuição,\n",
    "        #este número permanecerá intacto\n",
    "        \n",
    "        if cur_sum > best_sum:\n",
    "            best_sum = cur_sum\n",
    "            min_index = curr_start\n",
    "            max_index = i+1\n",
    "        \n",
    "    #print( , \"\\n\", )\n",
    "    return best_sum, lista[min_index:max_index]\n",
    "\n",
    "m3 = [-3, -8, 4, -1, 4, 8, 2, -5, -8, 6, 1, -6, -9, 2, 8, -1, 2, -2, -3, -6]\n",
    "encontra_maior_soma(m2)"
   ]
  },
  {
   "cell_type": "markdown",
   "id": "dd49cb1c",
   "metadata": {},
   "source": [
    "### Encontrar todas as submatrizes contíguas com soma maior do que 0"
   ]
  },
  {
   "cell_type": "code",
   "execution_count": 276,
   "id": "71cda462",
   "metadata": {
    "scrolled": true
   },
   "outputs": [
    {
     "name": "stdout",
     "output_type": "stream",
     "text": [
      "Submatriz [8], soma 8 , índice 2\n",
      "Submatriz [8], soma 8 , índice 5\n",
      "Submatriz [8, 3], soma 3 , índice 7\n",
      "Submatriz [4, 7, 4, 8, 6, 3], soma 3 , índice 10\n",
      "[-8, -2, 8, -2, -5, 8, -7, 8, 3, -8, 4, 7, 4, 8, 6, 3, -9, -5, -6, -4]\n"
     ]
    },
    {
     "data": {
      "text/plain": [
       "True"
      ]
     },
     "execution_count": 276,
     "metadata": {},
     "output_type": "execute_result"
    }
   ],
   "source": [
    "def get_gtzero_sum(lista):\n",
    "    \n",
    "    #lista vazia para comparação\n",
    "    ls = []\n",
    "    dic = {}\n",
    "    check = False\n",
    "    min_idx = 0\n",
    "    max_idx = 0\n",
    "    sigma = 0   \n",
    "    map_list = [0 if i<1 else 1 for i in lista]\n",
    "    e = enumerate(lista)\n",
    "    \n",
    "    for i, j in e:\n",
    "        if map_list[i] == 0:\n",
    "            min_idx = i+1\n",
    "            max_idx = i+1\n",
    "            sigma += max(0,j)\n",
    "        else:\n",
    "            check = True\n",
    "            sigma = j\n",
    "            max_idx += 1\n",
    "            dic[min_idx] = (sigma, lista[min_idx:max_idx])\n",
    "    for key, item in dic.items():\n",
    "        print(f\"Submatriz {dic[key][1]}, soma {dic[key][0]} , índice {key}\")\n",
    "    print(lista)\n",
    "    return check\n",
    "\n",
    "get_gtzero_sum(m2)"
   ]
  },
  {
   "cell_type": "markdown",
   "id": "e82dd845",
   "metadata": {},
   "source": [
    "### Organizar  Listas"
   ]
  },
  {
   "cell_type": "code",
   "execution_count": 357,
   "id": "3fead23a",
   "metadata": {},
   "outputs": [
    {
     "ename": "KeyError",
     "evalue": "1",
     "output_type": "error",
     "traceback": [
      "\u001b[1;31m---------------------------------------------------------------------------\u001b[0m",
      "\u001b[1;31mKeyError\u001b[0m                                  Traceback (most recent call last)",
      "Input \u001b[1;32mIn [357]\u001b[0m, in \u001b[0;36m<cell line: 77>\u001b[1;34m()\u001b[0m\n\u001b[0;32m     68\u001b[0m         \u001b[38;5;28;01mpass\u001b[39;00m\n\u001b[0;32m     73\u001b[0m \u001b[38;5;66;03m#def org_assyn(lista):\u001b[39;00m\n\u001b[1;32m---> 77\u001b[0m c \u001b[38;5;241m=\u001b[39m \u001b[43mPointer\u001b[49m\u001b[43m(\u001b[49m\u001b[43mm2\u001b[49m\u001b[43m,\u001b[49m\u001b[43m \u001b[49m\u001b[38;5;241;43m3\u001b[39;49m\u001b[43m)\u001b[49m\n\u001b[0;32m     78\u001b[0m d \u001b[38;5;241m=\u001b[39m Pointer(m2, \u001b[38;5;241m3\u001b[39m)\n\u001b[0;32m     79\u001b[0m e \u001b[38;5;241m=\u001b[39m Pointer(m2, \u001b[38;5;241m3\u001b[39m)\n",
      "Input \u001b[1;32mIn [357]\u001b[0m, in \u001b[0;36mPointer.__init__\u001b[1;34m(self, lista, slices)\u001b[0m\n\u001b[0;32m     19\u001b[0m \u001b[38;5;28mself\u001b[39m\u001b[38;5;241m.\u001b[39mls \u001b[38;5;241m=\u001b[39m lista\n\u001b[0;32m     20\u001b[0m \u001b[38;5;28mself\u001b[39m\u001b[38;5;241m.\u001b[39mvalid_positions \u001b[38;5;241m=\u001b[39m {\u001b[38;5;241m0\u001b[39m:\u001b[38;5;241m0\u001b[39m}\n\u001b[1;32m---> 21\u001b[0m \u001b[38;5;28;43mself\u001b[39;49m\u001b[38;5;241;43m.\u001b[39;49m\u001b[43mget_ipos\u001b[49m\u001b[43m(\u001b[49m\u001b[43mslices\u001b[49m\u001b[43m)\u001b[49m\n\u001b[0;32m     22\u001b[0m \u001b[38;5;28mself\u001b[39m\u001b[38;5;241m.\u001b[39mposition \u001b[38;5;241m=\u001b[39m \u001b[38;5;28mself\u001b[39m\u001b[38;5;241m.\u001b[39mvalid_positions[\u001b[38;5;28mself\u001b[39m\u001b[38;5;241m.\u001b[39midx]\n\u001b[0;32m     23\u001b[0m \u001b[38;5;28mself\u001b[39m\u001b[38;5;241m.\u001b[39mdirection \u001b[38;5;241m=\u001b[39m \u001b[38;5;241m-\u001b[39m \u001b[38;5;241m1\u001b[39m\n",
      "Input \u001b[1;32mIn [357]\u001b[0m, in \u001b[0;36mPointer.get_ipos\u001b[1;34m(self, slices)\u001b[0m\n\u001b[0;32m     29\u001b[0m \u001b[38;5;28;01mdef\u001b[39;00m \u001b[38;5;21mget_ipos\u001b[39m(\u001b[38;5;28mself\u001b[39m, slices):\n\u001b[0;32m     30\u001b[0m     \u001b[38;5;28;01mfor\u001b[39;00m i \u001b[38;5;129;01min\u001b[39;00m \u001b[38;5;28mrange\u001b[39m(slices):\n\u001b[1;32m---> 31\u001b[0m         \u001b[38;5;28mself\u001b[39m\u001b[38;5;241m.\u001b[39mvalid_positions[i] \u001b[38;5;241m+\u001b[39m\u001b[38;5;241m=\u001b[39m \u001b[38;5;28mint\u001b[39m(math\u001b[38;5;241m.\u001b[39mfloor((\u001b[38;5;241m1\u001b[39m\u001b[38;5;241m/\u001b[39m(slices))\u001b[38;5;241m*\u001b[39m\u001b[38;5;28mlen\u001b[39m(\u001b[38;5;28mself\u001b[39m\u001b[38;5;241m.\u001b[39mls)\u001b[38;5;241m-\u001b[39m\u001b[38;5;241m1\u001b[39m))\n",
      "\u001b[1;31mKeyError\u001b[0m: 1"
     ]
    }
   ],
   "source": [
    "### Algorítimo que organiza listas de forma assíncrona\n",
    "import math\n",
    "import time\n",
    "import itertools\n",
    "\n",
    "\n",
    "class Pointer:\n",
    "    \n",
    "    static_id = 0\n",
    "    \n",
    "    @classmethod\n",
    "    def increase_id(self):\n",
    "        self.static_id += 1\n",
    "        return self.static_id\n",
    "    \n",
    "    \n",
    "    def __init__(self, lista, slices=2):\n",
    "        self.idx = self.static_id\n",
    "        self.ls = lista\n",
    "        self.valid_positions = {0:0}\n",
    "        self.get_ipos(slices)\n",
    "        self.position = self.valid_positions[self.idx]\n",
    "        self.direction = - 1\n",
    "        self.u_bound = self.get_ubound()\n",
    "        self.l_bound = self.valid_positions[self.idx]\n",
    "        self.increase_id()\n",
    "\n",
    "    \n",
    "    def get_ipos(self, slices):\n",
    "        for i in range(slices):\n",
    "            self.valid_positions[i] += int(math.floor((1/(slices))*len(self.ls)-1))\n",
    "            \n",
    "        \n",
    "    def get_ubound(self):\n",
    "        if self.position < len(self.ls)-1:\n",
    "            return 0\n",
    "        else:\n",
    "            inx = self.idx\n",
    "            return self.valid_positions[self.idx-1]\n",
    "        \n",
    "    def move_Pointer(self):\n",
    "        self.position += direction\n",
    "        if self.position == self.u_bound:\n",
    "            self.direction *= -1\n",
    "        if self.position == self.l_bound:\n",
    "            self.direction *= -1\n",
    "    \n",
    "    def change_item(self):\n",
    "        a = 0\n",
    "        b = 0\n",
    "        a = self.ls[self.position]\n",
    "        b = self.ls[self.position + self.direction]\n",
    "        self.ls[self.position] = b\n",
    "        self.ls[self.position + self.direction] = a\n",
    "        \n",
    "    \n",
    "    def check(self):\n",
    "        e = enumerate(self.ls)\n",
    "        checker = False\n",
    "        for i, j in e:\n",
    "            if i == 0:\n",
    "                pass\n",
    "            else:\n",
    "                checker == checker and (j > self.ls[i-1])\n",
    "        return checker\n",
    "\n",
    "    def execute(self):\n",
    "        pass\n",
    "        \n",
    "    \n",
    "    \n",
    "    \n",
    "#def org_assyn(lista):\n",
    "   \n",
    "\n",
    "\n",
    "c = Pointer(m2, 3)\n",
    "d = Pointer(m2, 3)\n",
    "e = Pointer(m2, 3)\n",
    "print(c.position, c.idx, c.valid_positions, c.u_bound, \"\\n\",\n",
    "          d.position, d.idx, d.valid_positions, d.u_bound, \"\\n\",\n",
    "         e.position, e.idx, e.valid_positions, e.u_bound)"
   ]
  }
 ],
 "metadata": {
  "kernelspec": {
   "display_name": "Python 3 (ipykernel)",
   "language": "python",
   "name": "python3"
  },
  "language_info": {
   "codemirror_mode": {
    "name": "ipython",
    "version": 3
   },
   "file_extension": ".py",
   "mimetype": "text/x-python",
   "name": "python",
   "nbconvert_exporter": "python",
   "pygments_lexer": "ipython3",
   "version": "3.10.6"
  }
 },
 "nbformat": 4,
 "nbformat_minor": 5
}
